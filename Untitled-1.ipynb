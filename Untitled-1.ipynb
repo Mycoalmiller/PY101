{
 "cells": [
  {
   "cell_type": "code",
   "execution_count": null,
   "metadata": {},
   "outputs": [
    {
     "data": {
      "text/plain": [
       "21st\n",
       "21st\n",
       "20th\n",
       "3rd\n",
       "1st\n",
       "102nd\n",
       "11th\n",
       "12th\n",
       "113rd\n"
      ]
     },
     "metadata": {},
     "output_type": "display_data"
    }
   ],
   "source": [
    "first = 'st'\n",
    "second = 'nd'\n",
    "third = 'rd'\n",
    "fourth = 'th'\n",
    "def century(year): \n",
    "    number = round((year//100)+1)\n",
    "    number_str = str(number)\n",
    "    if number >= 10 and number < 20: \n",
    "        return number_str + fourth\n",
    "    elif number_str[len(number_str)-1] == '1':\n",
    "        return number_str + first\n",
    "    elif number_str[len(number_str)-1] == '2':\n",
    "        return number_str + second\n",
    "    elif number_str[len(number_str)-1] == '3':\n",
    "        return number_str + third                \n",
    "    else: \n",
    "        return number_str + fourth\n",
    "\n",
    "print(century(2000))          \n",
    "print(century(2001))         \n",
    "print(century(1965)) \n",
    "print(century(256))         \n",
    "print(century(5))            \n",
    "print(century(10103))       \n",
    "print(century(1052))         \n",
    "print(century(1127))         \n",
    "print(century(11201)) \n"
   ]
  },
  {
   "cell_type": "code",
   "execution_count": null,
   "metadata": {},
   "outputs": [
    {
     "data": {
      "text/plain": [
       "21st\n",
       "21st\n",
       "20th\n",
       "3rd\n",
       "1st\n",
       "102nd\n",
       "11th\n",
       "12th\n",
       "113rd\n"
      ]
     },
     "metadata": {},
     "output_type": "display_data"
    }
   ],
   "source": [
    "first = 'st'\n",
    "second = 'nd'\n",
    "third = 'rd'\n",
    "fourth = 'th'\n",
    "def century(year): \n",
    "    number = round(year//100) + 1\n",
    "    number_str = str(number)\n",
    "    if number >= 10 and number <= 20: \n",
    "        return number_str +  fourth\n",
    "    elif number_str[len(number_str)-1] == '1':\n",
    "        return number_str + first\n",
    "    elif number_str[len(number_str)-1] == '2':\n",
    "        return number_str + second\n",
    "    elif number_str[len(number_str)-1] == '3':\n",
    "        return number_str + third                \n",
    "    else: \n",
    "        return number_str + fourth \n",
    "\n",
    "print(century(2000))          \n",
    "print(century(2001))         \n",
    "print(century(1965)) \n",
    "print(century(256))         \n",
    "print(century(5))            \n",
    "print(century(10103))       \n",
    "print(century(1052))         \n",
    "print(century(1127))         \n",
    "print(century(11201)) \n"
   ]
  },
  {
   "cell_type": "code",
   "execution_count": null,
   "metadata": {},
   "outputs": [
    {
     "data": {
      "text/plain": [
       "23\n"
      ]
     },
     "metadata": {},
     "output_type": "display_data"
    }
   ],
   "source": [
    "my_variable = 'Hello, World'\n",
    "my_variable = 23\n",
    "print(my_variable)\n"
   ]
  },
  {
   "cell_type": "code",
   "execution_count": null,
   "metadata": {},
   "outputs": [],
   "source": []
  }
 ],
 "metadata": {
  "language_info": {
   "name": "python"
  }
 },
 "nbformat": 4,
 "nbformat_minor": 2
}
